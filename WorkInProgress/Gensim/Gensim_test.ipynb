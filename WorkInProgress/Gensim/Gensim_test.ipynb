{
 "cells": [
  {
   "cell_type": "code",
   "execution_count": 4,
   "metadata": {},
   "outputs": [],
   "source": [
    "from typing import List\n",
    "from gensim.models import KeyedVectors\n",
    "Vector = List[float]\n",
    "\n",
    "class Word:\n",
    "    def __init__(self, text: str, vector: Vector) -> None:\n",
    "        self.text = text\n",
    "        self.vector = vector"
   ]
  },
  {
   "cell_type": "code",
   "execution_count": 5,
   "metadata": {},
   "outputs": [],
   "source": [
    "model = KeyedVectors.load_word2vec_format('cc.si.300.vec')"
   ]
  },
  {
   "cell_type": "code",
   "execution_count": 18,
   "metadata": {},
   "outputs": [],
   "source": [
    "similar = model.most_similar(positive=['අයියා'],topn=10)"
   ]
  },
  {
   "cell_type": "code",
   "execution_count": 19,
   "metadata": {},
   "outputs": [
    {
     "name": "stdout",
     "output_type": "stream",
     "text": [
      "[('අයියානේ', 0.7501802444458008), ('අයියාට', 0.7210580110549927), ('අයියාය', 0.7193241119384766), ('අයියාම', 0.7151514291763306), ('අයියාඔව්', 0.71087646484375), ('අයියෑ', 0.7085727453231812), ('අයියත්', 0.7083442807197571), ('අයියාත්', 0.7075792551040649), ('අයියාලා', 0.7072583436965942), ('අයියාද', 0.7058093547821045)]\n"
     ]
    }
   ],
   "source": [
    "print(similar)"
   ]
  },
  {
   "cell_type": "code",
   "execution_count": null,
   "metadata": {},
   "outputs": [],
   "source": []
  }
 ],
 "metadata": {
  "kernelspec": {
   "display_name": "Python (fyp)",
   "language": "python",
   "name": "fyp"
  },
  "language_info": {
   "codemirror_mode": {
    "name": "ipython",
    "version": 3
   },
   "file_extension": ".py",
   "mimetype": "text/x-python",
   "name": "python",
   "nbconvert_exporter": "python",
   "pygments_lexer": "ipython3",
   "version": "3.6.8"
  }
 },
 "nbformat": 4,
 "nbformat_minor": 2
}
