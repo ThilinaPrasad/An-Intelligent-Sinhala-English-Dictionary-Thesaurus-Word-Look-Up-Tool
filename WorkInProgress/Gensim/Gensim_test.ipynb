{
 "cells": [
  {
   "cell_type": "code",
   "execution_count": 2,
   "metadata": {},
   "outputs": [
    {
     "name": "stderr",
     "output_type": "stream",
     "text": [
      "C:\\Users\\thili\\Anaconda3\\envs\\fyp\\lib\\site-packages\\smart_open\\ssh.py:34: UserWarning: paramiko missing, opening SSH/SCP/SFTP paths will be disabled.  `pip install paramiko` to suppress\n",
      "  warnings.warn('paramiko missing, opening SSH/SCP/SFTP paths will be disabled.  `pip install paramiko` to suppress')\n",
      "C:\\Users\\thili\\Anaconda3\\envs\\fyp\\lib\\site-packages\\gensim\\utils.py:1197: UserWarning: detected Windows; aliasing chunkize to chunkize_serial\n",
      "  warnings.warn(\"detected Windows; aliasing chunkize to chunkize_serial\")\n"
     ]
    }
   ],
   "source": [
    "from typing import List\n",
    "from gensim.models import KeyedVectors\n",
    "from gensim.models.wrappers import FastText\n",
    "import matplotlib as plt\n",
    "Vector = List[float]\n",
    "import pandas as pd\n",
    "class Word:\n",
    "    def __init__(self, text: str, vector: Vector) -> None:\n",
    "        self.text = text\n",
    "        self.vector = vector"
   ]
  },
  {
   "cell_type": "code",
   "execution_count": 8,
   "metadata": {},
   "outputs": [],
   "source": [
    "model = KeyedVectors.load_word2vec_format('cc.si.300.vec')\n",
    "# model = FastText.load_fasttext_format('syn_model.bin')"
   ]
  },
  {
   "cell_type": "code",
   "execution_count": 11,
   "metadata": {},
   "outputs": [],
   "source": [
    "similar = model.most_similar(positive=['බලන'],topn=10)\n",
    "# print(model.most_similar(''))\n",
    "# print(model.word_vec('බල්ලා'))\n",
    "#print(model.rank('තීන්ත','බල්ලා'))"
   ]
  },
  {
   "cell_type": "code",
   "execution_count": 12,
   "metadata": {},
   "outputs": [
    {
     "name": "stdout",
     "output_type": "stream",
     "text": [
      "[('බලනවට', 0.5595200657844543), ('බැලු', 0.5554366111755371), ('සලකා', 0.5515743494033813), ('බැලූ', 0.5486219525337219), ('නොබලන', 0.5470038056373596), ('බැලුවිට', 0.5451908111572266), ('දෙස', 0.5428203344345093), ('බලනවා', 0.5414676666259766), ('නොබලනු', 0.5358297824859619), ('බැලෙනව', 0.5326432585716248)]\n"
     ]
    }
   ],
   "source": [
    "print(similar)"
   ]
  },
  {
   "cell_type": "code",
   "execution_count": null,
   "metadata": {},
   "outputs": [],
   "source": []
  },
  {
   "cell_type": "code",
   "execution_count": null,
   "metadata": {},
   "outputs": [],
   "source": []
  }
 ],
 "metadata": {
  "kernelspec": {
   "display_name": "Python (fyp)",
   "language": "python",
   "name": "fyp"
  },
  "language_info": {
   "codemirror_mode": {
    "name": "ipython",
    "version": 3
   },
   "file_extension": ".py",
   "mimetype": "text/x-python",
   "name": "python",
   "nbconvert_exporter": "python",
   "pygments_lexer": "ipython3",
   "version": "3.6.8"
  }
 },
 "nbformat": 4,
 "nbformat_minor": 2
}
