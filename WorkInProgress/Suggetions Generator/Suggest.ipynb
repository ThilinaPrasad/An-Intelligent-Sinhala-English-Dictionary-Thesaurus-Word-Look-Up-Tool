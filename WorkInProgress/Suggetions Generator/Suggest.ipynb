{
 "cells": [
  {
   "cell_type": "code",
   "execution_count": 14,
   "metadata": {},
   "outputs": [],
   "source": [
    "f = open(\"words.txt\",'r', encoding='utf-8')\n",
    "data = f.readlines()\n",
    "data = [s[:-1].lower() for s in data]"
   ]
  },
  {
   "cell_type": "code",
   "execution_count": 15,
   "metadata": {},
   "outputs": [],
   "source": [
    "# # data = [s for s in data if (s.isalpha())]\n",
    "# data"
   ]
  },
  {
   "cell_type": "code",
   "execution_count": 16,
   "metadata": {},
   "outputs": [],
   "source": [
    "def getSuggestions(word,wordCount):\n",
    "    return [s for s in data if (s.startswith(word.lower()))][:wordCount]"
   ]
  },
  {
   "cell_type": "code",
   "execution_count": 19,
   "metadata": {},
   "outputs": [
    {
     "data": {
      "text/plain": [
       "['අම්බර',\n",
       " 'අම්බර්',\n",
       " 'අම්බු',\n",
       " 'අම්බුජ',\n",
       " 'අම්මන්ඩි',\n",
       " 'අම්මය',\n",
       " 'අම්මය රසය',\n",
       " 'අම්මා',\n",
       " 'අම්ල',\n",
       " 'අම්ල පිත']"
      ]
     },
     "execution_count": 19,
     "metadata": {},
     "output_type": "execute_result"
    }
   ],
   "source": [
    "getSuggestions('අම්',10)"
   ]
  },
  {
   "cell_type": "code",
   "execution_count": null,
   "metadata": {},
   "outputs": [],
   "source": []
  }
 ],
 "metadata": {
  "kernelspec": {
   "display_name": "Python (fyp)",
   "language": "python",
   "name": "fyp"
  },
  "language_info": {
   "codemirror_mode": {
    "name": "ipython",
    "version": 3
   },
   "file_extension": ".py",
   "mimetype": "text/x-python",
   "name": "python",
   "nbconvert_exporter": "python",
   "pygments_lexer": "ipython3",
   "version": "3.6.8"
  }
 },
 "nbformat": 4,
 "nbformat_minor": 2
}
