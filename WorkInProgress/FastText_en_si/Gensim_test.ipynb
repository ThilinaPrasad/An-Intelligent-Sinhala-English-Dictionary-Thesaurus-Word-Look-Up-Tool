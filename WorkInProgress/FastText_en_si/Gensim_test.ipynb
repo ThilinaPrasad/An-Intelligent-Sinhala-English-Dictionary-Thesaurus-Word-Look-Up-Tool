{
 "cells": [
  {
   "cell_type": "code",
   "execution_count": 1,
   "metadata": {},
   "outputs": [
    {
     "name": "stderr",
     "output_type": "stream",
     "text": [
      "C:\\Users\\thili\\Anaconda3\\envs\\fyp\\lib\\site-packages\\smart_open\\ssh.py:34: UserWarning: paramiko missing, opening SSH/SCP/SFTP paths will be disabled.  `pip install paramiko` to suppress\n",
      "  warnings.warn('paramiko missing, opening SSH/SCP/SFTP paths will be disabled.  `pip install paramiko` to suppress')\n",
      "C:\\Users\\thili\\Anaconda3\\envs\\fyp\\lib\\site-packages\\gensim\\utils.py:1197: UserWarning: detected Windows; aliasing chunkize to chunkize_serial\n",
      "  warnings.warn(\"detected Windows; aliasing chunkize to chunkize_serial\")\n"
     ]
    }
   ],
   "source": [
    "from gensim.models import KeyedVectors\n",
    "from gensim.models.wrappers import FastText"
   ]
  },
  {
   "cell_type": "code",
   "execution_count": 2,
   "metadata": {},
   "outputs": [],
   "source": [
    "model = KeyedVectors.load_word2vec_format('Output/Combined/tr.cc.si.300.vec')\n",
    "# model = FastText.load_fasttext_format('syn_model.bin')"
   ]
  },
  {
   "cell_type": "code",
   "execution_count": 11,
   "metadata": {},
   "outputs": [],
   "source": [
    "similar = model.most_similar(positive=['ජලය'],topn=18)\n",
    "# print(model.most_similar(''))\n",
    "# print(model.word_vec('බල්ලා'))\n",
    "#print(model.rank('තීන්ත','බල්ලා'))"
   ]
  },
  {
   "cell_type": "code",
   "execution_count": 12,
   "metadata": {},
   "outputs": [
    {
     "name": "stdout",
     "output_type": "stream",
     "text": [
      "Sim: 1.0 | නීර\n",
      "Sim: 1.0 | ජලාශය\n",
      "Sim: 1.0 | තෝය\n",
      "Sim: 1.0 | දියර\n",
      "Sim: 1.0 | නී\n",
      "Sim: 1.0 | සිලිල\n",
      "Sim: 1.0 | සරෝ\n",
      "Sim: 1.0 | ආපෝ\n",
      "Sim: 1.0 | ශ්‍රීත\n",
      "Sim: 1.0 | වතුර_වක්කරනවා\n",
      "Sim: 1.0 | වතුර_පොවනවා\n",
      "Sim: 1.0 | වතුර_දමනවා\n",
      "Sim: 1.0 | වතුර_කලවන්_කරනවා\n",
      "Sim: 1.0 | වතුර\n",
      "Sim: 1.0 | පැන්\n",
      "Sim: 1.0 | පානීය\n",
      "Sim: 1.0 | වාරි\n",
      "Sim: 1.0 | අඹ\n"
     ]
    }
   ],
   "source": [
    "out = []\n",
    "for word in similar:\n",
    "    print('Sim:',word[1],\"|\",word[0])"
   ]
  },
  {
   "cell_type": "code",
   "execution_count": null,
   "metadata": {},
   "outputs": [],
   "source": []
  },
  {
   "cell_type": "code",
   "execution_count": null,
   "metadata": {},
   "outputs": [],
   "source": []
  }
 ],
 "metadata": {
  "kernelspec": {
   "display_name": "Python (fyp)",
   "language": "python",
   "name": "fyp"
  },
  "language_info": {
   "codemirror_mode": {
    "name": "ipython",
    "version": 3
   },
   "file_extension": ".py",
   "mimetype": "text/x-python",
   "name": "python",
   "nbconvert_exporter": "python",
   "pygments_lexer": "ipython3",
   "version": "3.6.8"
  }
 },
 "nbformat": 4,
 "nbformat_minor": 2
}
