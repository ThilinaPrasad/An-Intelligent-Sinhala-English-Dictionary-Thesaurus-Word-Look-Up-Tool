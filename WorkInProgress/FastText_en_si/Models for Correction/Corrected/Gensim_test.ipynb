{
 "cells": [
  {
   "cell_type": "code",
   "execution_count": 1,
   "metadata": {},
   "outputs": [
    {
     "name": "stderr",
     "output_type": "stream",
     "text": [
      "C:\\Users\\thili\\Anaconda3\\envs\\fyp\\lib\\site-packages\\smart_open\\ssh.py:34: UserWarning: paramiko missing, opening SSH/SCP/SFTP paths will be disabled.  `pip install paramiko` to suppress\n",
      "  warnings.warn('paramiko missing, opening SSH/SCP/SFTP paths will be disabled.  `pip install paramiko` to suppress')\n",
      "C:\\Users\\thili\\Anaconda3\\envs\\fyp\\lib\\site-packages\\gensim\\utils.py:1197: UserWarning: detected Windows; aliasing chunkize to chunkize_serial\n",
      "  warnings.warn(\"detected Windows; aliasing chunkize to chunkize_serial\")\n"
     ]
    }
   ],
   "source": [
    "from gensim.models import KeyedVectors\n",
    "from gensim.models.wrappers import FastText"
   ]
  },
  {
   "cell_type": "code",
   "execution_count": 5,
   "metadata": {},
   "outputs": [],
   "source": [
    "model = KeyedVectors.load_word2vec_format('tr.cc.si.300_1_100000.vec')\n",
    "# model = FastText.load_fasttext_format('syn_model.bin')"
   ]
  },
  {
   "cell_type": "code",
   "execution_count": 6,
   "metadata": {},
   "outputs": [],
   "source": [
    "similar = model.most_similar(positive=['එවිට'],topn=15)\n",
    "# print(model.most_similar(''))\n",
    "# print(model.word_vec('බල්ලා'))\n",
    "#print(model.rank('තීන්ත','බල්ලා'))"
   ]
  },
  {
   "cell_type": "code",
   "execution_count": 7,
   "metadata": {},
   "outputs": [
    {
     "name": "stdout",
     "output_type": "stream",
     "text": [
      "[('ඒ_වෙලාවේ', 1.0), ('එකල', 1.0), ('සහ', 1.0), ('හා', 1.0), ('එවෙලෙහි', 1.0), ('පමණක්', 0.5737964510917664), ('එසේ_වුවත්', 0.5737964510917664), ('ඒ_නමුත්', 0.5737964510917664), ('නමුත්', 0.5737964510917664), ('නමුදු', 0.5737964510917664), ('නුමුත්', 0.5737964510917664), ('එභෙත්', 0.5737964510917664), ('හැර', 0.5737964510917664), ('මිස', 0.5737964510917664), ('මිසක්', 0.5737964510917664)]\n",
      "Sim: 1.0 | ඒ_වෙලාවේ\n",
      "Sim: 1.0 | එකල\n",
      "Sim: 1.0 | සහ\n",
      "Sim: 1.0 | හා\n",
      "Sim: 1.0 | එවෙලෙහි\n",
      "Sim: 0.5737964510917664 | පමණක්\n",
      "Sim: 0.5737964510917664 | එසේ_වුවත්\n",
      "Sim: 0.5737964510917664 | ඒ_නමුත්\n",
      "Sim: 0.5737964510917664 | නමුත්\n",
      "Sim: 0.5737964510917664 | නමුදු\n",
      "Sim: 0.5737964510917664 | නුමුත්\n",
      "Sim: 0.5737964510917664 | එභෙත්\n",
      "Sim: 0.5737964510917664 | හැර\n",
      "Sim: 0.5737964510917664 | මිස\n",
      "Sim: 0.5737964510917664 | මිසක්\n"
     ]
    }
   ],
   "source": [
    "print(similar)\n",
    "for word in similar:\n",
    "    print('Sim:',word[1],\"|\",word[0])"
   ]
  },
  {
   "cell_type": "code",
   "execution_count": null,
   "metadata": {},
   "outputs": [],
   "source": []
  },
  {
   "cell_type": "code",
   "execution_count": null,
   "metadata": {},
   "outputs": [],
   "source": []
  }
 ],
 "metadata": {
  "kernelspec": {
   "display_name": "Python (fyp)",
   "language": "python",
   "name": "fyp"
  },
  "language_info": {
   "codemirror_mode": {
    "name": "ipython",
    "version": 3
   },
   "file_extension": ".py",
   "mimetype": "text/x-python",
   "name": "python",
   "nbconvert_exporter": "python",
   "pygments_lexer": "ipython3",
   "version": "3.6.8"
  }
 },
 "nbformat": 4,
 "nbformat_minor": 2
}
