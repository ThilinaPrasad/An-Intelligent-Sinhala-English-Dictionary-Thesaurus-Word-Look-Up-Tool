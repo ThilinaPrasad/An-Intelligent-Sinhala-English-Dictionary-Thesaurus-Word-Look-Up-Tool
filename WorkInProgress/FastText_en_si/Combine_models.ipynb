{
 "cells": [
  {
   "cell_type": "code",
   "execution_count": 21,
   "metadata": {},
   "outputs": [
    {
     "name": "stdout",
     "output_type": "stream",
     "text": [
      "Count: 19908\n",
      "Count: 10720\n",
      "Total count: 30628\n"
     ]
    }
   ],
   "source": [
    "data = ''\n",
    "counter = 0\n",
    "for text_idx, file in enumerate(['tr.cc.si.300_4.vec','tr.cc.si.300_5.vec']):\n",
    "    with open(\"Output/\"+file, 'r',encoding=\"utf8\") as fp:\n",
    "        file_data = fp.read().split(\"\\n\",1)\n",
    "        data += file_data[1]\n",
    "        print(\"Count:\",file_data[0].split()[0])\n",
    "        counter += int(file_data[0].split()[0])\n",
    "print(\"Total count:\",counter)"
   ]
  },
  {
   "cell_type": "code",
   "execution_count": 23,
   "metadata": {},
   "outputs": [
    {
     "name": "stdout",
     "output_type": "stream",
     "text": [
      "====> Done <====\n"
     ]
    }
   ],
   "source": [
    "first_line = str(counter)+\" 300\\n\"\n",
    "# data.insert(0,first_line)\n",
    "to_write = first_line+data\n",
    "writer = open(\"Output/Combined/tr.cc.si.300.vec\", \"w\", encoding=\"utf-8\")\n",
    "writer.write(to_write)\n",
    "print(\"====> Done <====\")"
   ]
  },
  {
   "cell_type": "code",
   "execution_count": null,
   "metadata": {},
   "outputs": [],
   "source": []
  }
 ],
 "metadata": {
  "kernelspec": {
   "display_name": "Python (fyp)",
   "language": "python",
   "name": "fyp"
  },
  "language_info": {
   "codemirror_mode": {
    "name": "ipython",
    "version": 3
   },
   "file_extension": ".py",
   "mimetype": "text/x-python",
   "name": "python",
   "nbconvert_exporter": "python",
   "pygments_lexer": "ipython3",
   "version": "3.6.8"
  }
 },
 "nbformat": 4,
 "nbformat_minor": 2
}
