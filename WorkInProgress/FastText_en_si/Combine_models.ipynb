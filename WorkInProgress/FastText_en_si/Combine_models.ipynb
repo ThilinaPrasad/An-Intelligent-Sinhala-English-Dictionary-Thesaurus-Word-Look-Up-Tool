{
 "cells": [
  {
   "cell_type": "code",
   "execution_count": 1,
   "metadata": {},
   "outputs": [
    {
     "name": "stdout",
     "output_type": "stream",
     "text": [
      "Files in 'new_models.txt':  ['tr.cc.si.300.vec', 'tr.cc.si.300_150000_200000.vec']\n"
     ]
    }
   ],
   "source": [
    "#read new model names\n",
    "file = open(\"Output/new_models.txt\", \"r\", encoding=\"utf-8\")\n",
    "new_models = file.read().splitlines()\n",
    "print(\"Files in 'new_models.txt': \",new_models)"
   ]
  },
  {
   "cell_type": "code",
   "execution_count": 2,
   "metadata": {},
   "outputs": [
    {
     "name": "stdout",
     "output_type": "stream",
     "text": [
      "Count: 198941\n",
      "Count: 14993\n",
      "Total count: 213934\n"
     ]
    }
   ],
   "source": [
    "data = ''\n",
    "counter = 0\n",
    "for text_idx, file in enumerate(new_models):\n",
    "    with open(\"Output/\"+file, 'r',encoding=\"utf8\") as fp:\n",
    "        file_data = fp.read().split(\"\\n\",1)\n",
    "        data += file_data[1]\n",
    "        print(\"Count:\",file_data[0].split()[0])\n",
    "        counter += int(file_data[0].split()[0])\n",
    "print(\"Total count:\",counter)"
   ]
  },
  {
   "cell_type": "code",
   "execution_count": 3,
   "metadata": {},
   "outputs": [
    {
     "name": "stdout",
     "output_type": "stream",
     "text": [
      "====> Done <====\n"
     ]
    }
   ],
   "source": [
    "first_line = str(counter)+\" 300\\n\"\n",
    "# data.insert(0,first_line)\n",
    "to_write = first_line+data\n",
    "writer = open(\"Output/Combined/tr.cc.si.300.vec\", \"w\", encoding=\"utf-8\")\n",
    "writer.write(to_write)\n",
    "print(\"====> Done <====\")"
   ]
  },
  {
   "cell_type": "code",
   "execution_count": null,
   "metadata": {},
   "outputs": [],
   "source": []
  }
 ],
 "metadata": {
  "kernelspec": {
   "display_name": "Python (fyp)",
   "language": "python",
   "name": "fyp"
  },
  "language_info": {
   "codemirror_mode": {
    "name": "ipython",
    "version": 3
   },
   "file_extension": ".py",
   "mimetype": "text/x-python",
   "name": "python",
   "nbconvert_exporter": "python",
   "pygments_lexer": "ipython3",
   "version": "3.6.8"
  }
 },
 "nbformat": 4,
 "nbformat_minor": 2
}
