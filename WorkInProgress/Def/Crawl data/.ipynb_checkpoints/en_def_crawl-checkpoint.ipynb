{
 "cells": [
  {
   "cell_type": "markdown",
   "metadata": {},
   "source": [
    "## Crawling"
   ]
  },
  {
   "cell_type": "code",
   "execution_count": 10,
   "metadata": {},
   "outputs": [],
   "source": [
    "import requests\n",
    "import pandas as pd\n",
    "import numpy as np\n",
    "import os \n",
    "import time\n",
    "api_url = 'https://tuna.thesaurus.com/pageData/'\n",
    "\n",
    "header = {\n",
    "    \"User-Agent\": \"Mozilla/5.0 (X11; Linux x86_64) AppleWebKit/537.36 (KHTML, like Gecko) Chrome/50.0.2661.75 Safari/537.36\",\n",
    "    \"X-Requested-With\": \"XMLHttpRequest\"}\n",
    "\n",
    "# filter out definitions from response\n",
    "def getDefinition(response):\n",
    "    return response.json()['data']['definitionData']['definitions'][0]['definition']\n",
    "\n",
    "# main method for get data\n",
    "def getDefData(input_word):\n",
    "    # Api call\n",
    "    response = requests.get(api_url + input_word, headers=header)\n",
    "    try:\n",
    "        # filter out data\n",
    "        definition = getDefinition(response)\n",
    "\n",
    "        # format data and return\n",
    "        return definition\n",
    "    except TypeError:\n",
    "        return ''"
   ]
  },
  {
   "cell_type": "markdown",
   "metadata": {},
   "source": [
    "## Load Fasttext"
   ]
  },
  {
   "cell_type": "code",
   "execution_count": 2,
   "metadata": {},
   "outputs": [
    {
     "name": "stdout",
     "output_type": "stream",
     "text": [
      "Loading Fasttext data ...\n",
      "Done\n"
     ]
    }
   ],
   "source": [
    "print(\"Loading Fasttext data ...\")\n",
    "f = open(\"../../FastText_en_si/FastText/cc.en.300.vec\",'r', encoding='utf-8')\n",
    "data = f.readlines()\n",
    "print(\"Done\")"
   ]
  },
  {
   "cell_type": "markdown",
   "metadata": {},
   "source": [
    "## Execute Through the Words"
   ]
  },
  {
   "cell_type": "code",
   "execution_count": 12,
   "metadata": {},
   "outputs": [
    {
     "name": "stdout",
     "output_type": "stream",
     "text": [
      "\n",
      "Crawling Starts => \n",
      "\n",
      "start of the crawling: 1\n",
      "end of the crawling: 10\n",
      "[1] | ,\n",
      "[2] | the\n",
      "[3] | .\n",
      "[4] | and\n",
      "[5] | to\n",
      "[6] | of\n",
      "[7] | a\n",
      "[8] | </s>\n",
      "[9] | in\n"
     ]
    }
   ],
   "source": [
    "print('\\nCrawling Starts => \\n')\n",
    "output_df = pd.DataFrame(data=[['','']],columns=['word','definition'])\n",
    "start = int(input(\"start of the crawling: \"))\n",
    "end = int(input(\"end of the crawling: \"))\n",
    "for i in range(start,end):\n",
    "    word_vector = data[i].split(\" \", 1)\n",
    "    word = word_vector[0]\n",
    "    print('['+str(i)+'] | '+word)\n",
    "    if(not word.isalpha() or len(word)<=4):\n",
    "        continue\n",
    "    definition = getDefData(word)\n",
    "    print (definition)\n",
    "    if(definition == ''):\n",
    "        continue\n",
    "    temp_df = pd.DataFrame(data=[[word,definition]],columns=['word','definition'])\n",
    "    output_df = output_df.append(temp_df,ignore_index = True)\n",
    "    "
   ]
  },
  {
   "cell_type": "code",
   "execution_count": 13,
   "metadata": {},
   "outputs": [
    {
     "name": "stdout",
     "output_type": "stream",
     "text": [
      "  word definition\n",
      "0                \n"
     ]
    }
   ],
   "source": [
    "print (output_df)"
   ]
  },
  {
   "cell_type": "code",
   "execution_count": 14,
   "metadata": {},
   "outputs": [],
   "source": [
    "output_df.to_excel(\"en_def_data.xlsx\",index=False)"
   ]
  },
  {
   "cell_type": "code",
   "execution_count": 6,
   "metadata": {},
   "outputs": [],
   "source": [
    "# print(\"Sutting down in 60 Secs ......\")\n",
    "# time.sleep(60)\n",
    "# os.system(\"shutdown /s /t 1\") "
   ]
  },
  {
   "cell_type": "code",
   "execution_count": 7,
   "metadata": {},
   "outputs": [],
   "source": [
    "# print(\"a\",)\n",
    "# print('b')"
   ]
  },
  {
   "cell_type": "code",
   "execution_count": null,
   "metadata": {},
   "outputs": [],
   "source": []
  }
 ],
 "metadata": {
  "kernelspec": {
   "display_name": "Python 3",
   "language": "python",
   "name": "python3"
  },
  "language_info": {
   "codemirror_mode": {
    "name": "ipython",
    "version": 3
   },
   "file_extension": ".py",
   "mimetype": "text/x-python",
   "name": "python",
   "nbconvert_exporter": "python",
   "pygments_lexer": "ipython3",
   "version": "3.6.8"
  }
 },
 "nbformat": 4,
 "nbformat_minor": 2
}
