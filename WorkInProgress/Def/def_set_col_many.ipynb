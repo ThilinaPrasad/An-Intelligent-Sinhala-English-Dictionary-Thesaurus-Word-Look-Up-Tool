{
 "cells": [
  {
   "cell_type": "code",
   "execution_count": 1,
   "metadata": {},
   "outputs": [],
   "source": [
    "import pandas as pd\n",
    "excel_file = 'synonyms.xlsx'\n",
    "df = pd.read_excel(excel_file)"
   ]
  },
  {
   "cell_type": "code",
   "execution_count": 3,
   "metadata": {},
   "outputs": [
    {
     "name": "stdout",
     "output_type": "stream",
     "text": [
      "[['\\ufeffඅ ', 'සිංහල හෝඩියේ මුල් අකුර සහ එහි මුල් ස්වරය', '(ව්\\u200dයාක.) විරැද්ධ ප\\u200d්\\u200dරතිෂේධ අාදි අර්ථවල යෙදෙන අව්\\u200dයයක්'], ['අංකනය ', 'ඉලක්කම්වලින් සංඛ්\\u200dයා දැක්වීම ', ' අංක යෙදීමේ කාර්යය', 'අංක රාශි ආදිය සංකේත මගින් නිරෑපණය කිරීම', ' එසේ නිරෑපිත සංකේත පද්ධතිය'], ['අංකය, අඞ්කය ', ' 0 සිට 9 තෙක්  ඕනෑ ම ඉලක්කමක් නිරූපණයට යොදන රෑපය', 'පොත් සුගරා ආදියේ පරිච්ෙඡ්දය /කොටස'], ['අංකිත ', 'ලකුණු කරන ලද ', ' ඉලක්කමෙන්/අංකයෙන් දක්වන ලද'], ['අංකීරා, අංකූරා (කථා) ', 'කූරැ වැනි උල් අං ඇති ගොනා ', ' (රුඪි.) කෛරාටික පරු ැෂයා'], ['අං කූටය ', 'අත්පාවල මහ ඇඟිල්ල ', ' අැතැම් මත්ස්\\u200dයයන්ගේ එක්හකවු කනි ් වැඞී තෙි බන ඇුගලි ල් ක් වැනි ස්පර්ශක උපාංගය'], ['අංකුරය, අඞ්කුරය ', 'ශාකයක නොවැඩණු ු ළපටි අවසථ් ාව', 'පරිභා.) ජීවියෙකුගේ ශරීරයෙන් ලියලා නව ජීවියෙකු බවට අලිංගිකව වැඩෙන නෙරුම'], ['අංකුශ වාරණය ', 'සිවුසැට කලාවලින් එකක් වන අංකුශ භාවිතය ', ' අලි ඇතුන් හැසිරවීමේ ශාසත් ය\\u200d්\\u200dර '], ['අංගම ', 'මතුරා පිඹින නපුරු මනත් \\u200d්\\u200dර විශෙෂ් යක.්', 'දෙදෙනකු අතරේ කරන කඩු හරඹය', ' දව් නද් ව් යුද්ධය', 'දේව පූජා සඳහා පවත්වන නැටුම් විශේෂයක.'], ['අංගම් පොරය ', 'දෙදෙනෙකු අතරේ කරන කඩු හරඹය', ' දව් නද් ව් යුද්ධය', 'මල්ලවපොර වැනි ක\\u200d්\\u200dරීඩා විශේෂයක.']]\n"
     ]
    }
   ],
   "source": [
    "def_new = []\n",
    "for index, row in df.iterrows():\n",
    "    l = []\n",
    "    l.append(row['Word'])\n",
    "    syn1 = str(row['Syn1']).split(';')\n",
    "##    print (len(syn1[0].split(\" \")))\n",
    "    if(len(syn1)!=0):\n",
    "        for i in syn1:\n",
    "            if(i!= 'nan' and len(i.split(\" \"))>3):\n",
    "                l.append((str(i)))\n",
    "    syn2 = str(row['Syn2']).split(';')\n",
    "    if(len(syn2)!=0):\n",
    "        for i in syn2:\n",
    "            if(i!= 'nan' and len(i.split(\" \"))>3):\n",
    "                l.append((str(i)))\n",
    "    syn3 = str(row['Syn3']).split(';')\n",
    "    if(len(syn3)!=0):\n",
    "        for i in syn3:\n",
    "            if(i!= 'nan' and len(i.split(\" \"))>3):\n",
    "                l.append((str(i)))\n",
    "    if(len(l)>2):\n",
    "        def_new.append(l)\n",
    "print (def_new[:10])"
   ]
  },
  {
   "cell_type": "code",
   "execution_count": 7,
   "metadata": {},
   "outputs": [],
   "source": [
    "# import xlsxwriter module \n",
    "import xlsxwriter \n",
    "  \n",
    "workbook = xlsxwriter.Workbook('def_new_col_many.xlsx', options={'nan_inf_to_errors': True}) \n",
    "worksheet = workbook.add_worksheet() \n",
    "\n",
    "worksheet.write(0, 0, \"Word\")\n",
    "worksheet.write(0, 1, \"Def1\")\n",
    "worksheet.write(0, 2, \"Def2\") \n",
    "worksheet.write(0, 3, \"Def3\") \n",
    "worksheet.write(0, 4, \"Def4\")\n",
    "worksheet.write(0, 5, \"Def5\") \n",
    "\n",
    "row = 1\n",
    "# iterating through file list\n",
    "for i in range(len(def_new)):\n",
    "    column = 0\n",
    "    for j in range(len(def_new[i])):\n",
    "       # write operation perform \n",
    "        worksheet.write(row, column, def_new[i][j]) \n",
    "        column += 1\n",
    "        # incrementing the value of row by one \n",
    "        # with each iteratons. \n",
    "    row += 1 \n",
    "\n",
    "workbook.close() "
   ]
  },
  {
   "cell_type": "code",
   "execution_count": null,
   "metadata": {},
   "outputs": [],
   "source": []
  }
 ],
 "metadata": {
  "kernelspec": {
   "display_name": "Python 3",
   "language": "python",
   "name": "python3"
  },
  "language_info": {
   "codemirror_mode": {
    "name": "ipython",
    "version": 3
   },
   "file_extension": ".py",
   "mimetype": "text/x-python",
   "name": "python",
   "nbconvert_exporter": "python",
   "pygments_lexer": "ipython3",
   "version": "3.6.8"
  }
 },
 "nbformat": 4,
 "nbformat_minor": 2
}
