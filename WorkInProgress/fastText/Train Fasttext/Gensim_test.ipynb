{
 "cells": [
  {
   "cell_type": "code",
   "execution_count": 1,
   "metadata": {},
   "outputs": [
    {
     "name": "stderr",
     "output_type": "stream",
     "text": [
      "C:\\Users\\thili\\Anaconda3\\envs\\fyp\\lib\\site-packages\\smart_open\\ssh.py:34: UserWarning: paramiko missing, opening SSH/SCP/SFTP paths will be disabled.  `pip install paramiko` to suppress\n",
      "  warnings.warn('paramiko missing, opening SSH/SCP/SFTP paths will be disabled.  `pip install paramiko` to suppress')\n",
      "C:\\Users\\thili\\Anaconda3\\envs\\fyp\\lib\\site-packages\\gensim\\utils.py:1197: UserWarning: detected Windows; aliasing chunkize to chunkize_serial\n",
      "  warnings.warn(\"detected Windows; aliasing chunkize to chunkize_serial\")\n"
     ]
    }
   ],
   "source": [
    "from gensim.models import KeyedVectors\n",
    "from gensim.models.wrappers import FastText"
   ]
  },
  {
   "cell_type": "code",
   "execution_count": 2,
   "metadata": {},
   "outputs": [],
   "source": [
    "model = KeyedVectors.load_word2vec_format('test.vec')\n",
    "# model = FastText.load_fasttext_format('syn_model.bin')"
   ]
  },
  {
   "cell_type": "code",
   "execution_count": 22,
   "metadata": {},
   "outputs": [],
   "source": [
    "similar = model.most_similar(positive=['බල්ලා'],topn=50)\n",
    "# print(model.most_similar(''))\n",
    "# print(model.word_vec('බල්ලා'))\n",
    "#print(model.rank('තීන්ත','බල්ලා'))"
   ]
  },
  {
   "cell_type": "code",
   "execution_count": 23,
   "metadata": {},
   "outputs": [
    {
     "name": "stdout",
     "output_type": "stream",
     "text": [
      "0.782668948173523 | බල්ලාද\n",
      "0.7813901901245117 | බල්ලාත්\n",
      "0.7568970918655396 | බල්ලෙක්\n",
      "0.7492319345474243 | බල්ලම\n",
      "0.7379452586174011 | බල්ලාගෙ\n",
      "0.7373077869415283 | බල්ල\n",
      "0.733121395111084 | බල්ලාටද\n",
      "0.7329452037811279 | බල්ලාය\n",
      "0.7262505292892456 | බල්ලේ\n",
      "0.7230677604675293 | බල්ලාගේ\n",
      "0.7178964614868164 | බල්ලාට\n",
      "0.7168749570846558 | බල්ලාව\n",
      "0.7133837938308716 | බල්ලාවත්\n",
      "0.6932535171508789 | බල්ලව\n",
      "0.6898009777069092 | බල්ලෙකු\n",
      "0.6877285242080688 | බල්ලෝ\n",
      "0.6862167119979858 | බල්ලන\n",
      "0.6816917657852173 | බල්ලන්\n",
      "0.6788988709449768 | බල්ලත්\n",
      "0.6768361926078796 | බල්ලෙක්ම\n",
      "0.6746751666069031 | බල්ලෙ\n",
      "0.6729583740234375 | බල්ලන්න\n",
      "0.6632978916168213 | බල්ලො\n",
      "0.6626975536346436 | බල්ලගේ\n",
      "0.6626931428909302 | බල්ලද\n",
      "0.6618517637252808 | බල්ලාටත්\n",
      "0.657188355922699 | බල්ලකු\n",
      "0.6565420627593994 | බල්ලෙකුත්\n",
      "0.6561368703842163 | බල්ලෙක්ද\n",
      "0.6554169654846191 | බල්ලන්ද\n",
      "0.6539148092269897 | බල්ලෙකි\n",
      "0.6524759531021118 | බැල්ලිය\n",
      "0.6493645906448364 | බල්ලෙක්ව\n",
      "0.6461396217346191 | බල්ලෙක්ට\n",
      "0.6457375288009644 | බැල්ලි\n",
      "0.6444109678268433 | බලු\n",
      "0.6443773508071899 | බැල්ලී\n",
      "0.64383864402771 | බල්ලෝය\n",
      "0.6392346620559692 | බල්ලනේ\n",
      "0.636070728302002 | බල්ලොද\n",
      "0.6332029700279236 | බැල්ලියේ\n",
      "0.6321496963500977 | බල්ලෙක්නෙ\n",
      "0.6265091300010681 | බල්ලන්ය\n",
      "0.6256860494613647 | බැල්ලිව\n",
      "0.6237027049064636 | බල්ලෙකුට\n",
      "0.6228834390640259 | බැල්ලියෙක්\n",
      "0.6178716421127319 | බැල්ලියන්\n",
      "0.6169238686561584 | බල්ලෙක්නේ\n",
      "0.6164575815200806 | දියබල්ලා\n",
      "0.6161679029464722 | බැල්ලිට\n"
     ]
    }
   ],
   "source": [
    "for word in similar:\n",
    "    print(word[1],\"|\",word[0])"
   ]
  },
  {
   "cell_type": "code",
   "execution_count": null,
   "metadata": {},
   "outputs": [],
   "source": []
  },
  {
   "cell_type": "code",
   "execution_count": null,
   "metadata": {},
   "outputs": [],
   "source": []
  }
 ],
 "metadata": {
  "kernelspec": {
   "display_name": "Python (fyp)",
   "language": "python",
   "name": "fyp"
  },
  "language_info": {
   "codemirror_mode": {
    "name": "ipython",
    "version": 3
   },
   "file_extension": ".py",
   "mimetype": "text/x-python",
   "name": "python",
   "nbconvert_exporter": "python",
   "pygments_lexer": "ipython3",
   "version": "3.6.8"
  }
 },
 "nbformat": 4,
 "nbformat_minor": 2
}
